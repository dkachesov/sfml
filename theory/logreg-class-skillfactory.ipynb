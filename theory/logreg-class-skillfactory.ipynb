{
 "cells": [
  {
   "cell_type": "markdown",
   "metadata": {},
   "source": [
    "<center><img src=\"img/skillfactorylogo.png\"></center>\n",
    "\n",
    "<h1><center>Курс \"Практический Machine Learning\"</center></h1>\n",
    "<h3><center>Шестаков Андрей</center></h3>\n",
    "<hr>\n",
    "<h2><center>Логистическая регрессия</center></h2>"
   ]
  },
  {
   "cell_type": "code",
   "execution_count": 2,
   "metadata": {},
   "outputs": [],
   "source": [
    "import pandas as pd\n",
    "import numpy as np\n",
    "import matplotlib.pyplot as plt\n",
    "%matplotlib inline\n",
    "\n",
    "plt.style.use('ggplot')\n",
    "plt.rcParams['figure.figsize'] = (18,12)\n",
    "\n",
    "from ipywidgets import interact, IntSlider, FloatSlider"
   ]
  },
  {
   "cell_type": "markdown",
   "metadata": {
    "slideshow": {
     "slide_type": "subslide"
    }
   },
   "source": [
    "<center><img src='https://upload.wikimedia.org/wikipedia/commons/thumb/b/b5/Svm_separating_hyperplanes_%28SVG%29.svg/512px-Svm_separating_hyperplanes_%28SVG%29.svg.png'></center>"
   ]
  },
  {
   "cell_type": "markdown",
   "metadata": {
    "slideshow": {
     "slide_type": "subslide"
    }
   },
   "source": [
    "Нам надо найти уравнение прямой (гиперплоскости), которая бы могла разделить два класса ($H_2$ и $H_3$ подходят). В данном случае, уравнение прямой задаётся как: $$g(x) = w_0 + w_1x_1 + w_2x_2 = \\langle w, x \\rangle =  w^\\top x$$\n",
    "\n",
    "* Если $g(x^*) > 0$, то $y^* = +1 = \\text{'черный'}$\n",
    "* Если $g(x^*) < 0$, то $y^* = -1 = \\text{'белый'}$\n",
    "* Если $g(x^*) = 0$, то мы находимся на линии\n",
    "* т.е. решающее правило: $y^* = sign(g(x^*))$"
   ]
  },
  {
   "cell_type": "code",
   "execution_count": null,
   "metadata": {
    "collapsed": true,
    "slideshow": {
     "slide_type": "skip"
    }
   },
   "outputs": [],
   "source": [
    "def demo_sigmoid():\n",
    "    def sigmoid(z):\n",
    "        return 1./(1. + np.exp(-z))\n",
    "\n",
    "    z = np.linspace(-10, 10, 100)\n",
    "\n",
    "    y = sigmoid(z)\n",
    "    plt.plot(z, y)\n",
    "    plt.xlabel('$z$')\n",
    "    plt.ylabel('$\\sigma(z)$')\n",
    "    \n",
    "    plt.show()"
   ]
  },
  {
   "cell_type": "markdown",
   "metadata": {
    "slideshow": {
     "slide_type": "subslide"
    }
   },
   "source": [
    "Перед тем как мы пойдем дальше, рассмотрим функцию $$\\sigma(z) = \\frac{1}{1 + exp{(-z)}},$$она называется **сигмойда**. "
   ]
  },
  {
   "cell_type": "code",
   "execution_count": null,
   "metadata": {
    "slideshow": {
     "slide_type": "fragment"
    }
   },
   "outputs": [],
   "source": [
    "demo_sigmoid()"
   ]
  },
  {
   "cell_type": "markdown",
   "metadata": {},
   "source": [
    "<center><img src='img/prob.png'></center>"
   ]
  },
  {
   "cell_type": "markdown",
   "metadata": {
    "slideshow": {
     "slide_type": "subslide"
    }
   },
   "source": [
    "#### Постановка задачи\n",
    "Будем требовать, чтобы алгоритм возвращал вероятность класса $y=+1$:\n",
    "$$h(x,w) = p(y=+1|x,w) = \\sigma(g(x))$$\n",
    "\n",
    "Выпишем функцию правдоподобия (используем метод максимального правдоподобия)\n",
    "$$ \\mathcal{L}(w) = \\prod_i^n h(x^{(i)},w)^{[y^{(i)} = +1]} (1 - h(x^{(i)},w))^{[y^{(i)} = -1]} \\rightarrow \\max_w$$\n",
    "$$ -\\log{\\mathcal{L}(w)} = - \\sum_i^n [y^{(i)} = +1]\\cdot\\log{(h(x^{(i)},w))} + {[y^{(i)} = -1]}\\cdot\\log{(1-h(x^{(i)},w))} \\rightarrow \\min_w$$\n",
    "$$L(w) = \\log{\\mathcal{L}(w)} \\rightarrow \\min_w $$"
   ]
  },
  {
   "cell_type": "code",
   "execution_count": 9,
   "metadata": {},
   "outputs": [
    {
     "name": "stderr",
     "output_type": "stream",
     "text": [
      "/Applications/anaconda3/lib/python3.6/site-packages/ipykernel_launcher.py:3: RuntimeWarning: divide by zero encountered in log\n",
      "  This is separate from the ipykernel package so we can avoid doing imports until\n",
      "/Applications/anaconda3/lib/python3.6/site-packages/ipykernel_launcher.py:4: RuntimeWarning: divide by zero encountered in log\n",
      "  after removing the cwd from sys.path.\n"
     ]
    },
    {
     "data": {
      "text/plain": [
       "[<matplotlib.lines.Line2D at 0x112a70128>]"
      ]
     },
     "execution_count": 9,
     "metadata": {},
     "output_type": "execute_result"
    },
    {
     "data": {
      "image/png": "[encoded data removed]",
      "text/plain": [
       "<matplotlib.figure.Figure at 0x112a70518>"
      ]
     },
     "metadata": {},
     "output_type": "display_data"
    }
   ],
   "source": [
    "#Полагаме, что объект относится к классу +1\n",
    "h = np.linspace(0, 1, 100)\n",
    "L1 = -np.log(h)\n",
    "L2 = -np.log(1-h)\n",
    "\n",
    "plt.plot(h, L1)\n",
    "plt.plot(h, L2)"
   ]
  },
  {
   "cell_type": "code",
   "execution_count": 10,
   "metadata": {},
   "outputs": [],
   "source": [
    "#генерим случайный массив точек\n",
    "np.random.seed(0)\n",
    "X = np.r_[np.random.randn(20, 2) + [2, 2],\n",
    "          np.random.randn(20, 2) + [-2, -2]]\n",
    "y = [-1] * 20 + [1] * 20"
   ]
  },
  {
   "cell_type": "code",
   "execution_count": 11,
   "metadata": {},
   "outputs": [
    {
     "data": {
      "text/plain": [
       "<matplotlib.collections.PathCollection at 0x112bc57f0>"
      ]
     },
     "execution_count": 11,
     "metadata": {},
     "output_type": "execute_result"
    },
    {
     "data": {
      "image/png": "[encoded data removed]",
      "text/plain": [
       "<matplotlib.figure.Figure at 0x112b6b208>"
      ]
     },
     "metadata": {},
     "output_type": "display_data"
    }
   ],
   "source": [
    "fig, ax = plt.subplots(figsize=(7, 7))\n",
    "ax.scatter(X[:, 0],\n",
    "           X[:, 1],\n",
    "           c=y,\n",
    "           cmap=plt.cm.Paired)"
   ]
  },
  {
   "cell_type": "code",
   "execution_count": 12,
   "metadata": {},
   "outputs": [],
   "source": [
    "from sklearn.linear_model import LogisticRegression"
   ]
  },
  {
   "cell_type": "markdown",
   "metadata": {},
   "source": [
    "Обучите логистическую регрессию на этих данных и нарисуйте разделяющую гиперплоскость"
   ]
  },
  {
   "cell_type": "code",
   "execution_count": 13,
   "metadata": {},
   "outputs": [
    {
     "data": {
      "text/plain": [
       "LogisticRegression(C=1.0, class_weight=None, dual=False, fit_intercept=True,\n",
       "          intercept_scaling=1, max_iter=100, multi_class='ovr', n_jobs=1,\n",
       "          penalty='l2', random_state=None, solver='liblinear', tol=0.0001,\n",
       "          verbose=0, warm_start=False)"
      ]
     },
     "execution_count": 13,
     "metadata": {},
     "output_type": "execute_result"
    }
   ],
   "source": [
    "model = LogisticRegression(C=1.0, \n",
    "                           fit_intercept=True, \n",
    "                           penalty='l2')\n",
    "model.fit(X, y)"
   ]
  },
  {
   "cell_type": "code",
   "execution_count": 16,
   "metadata": {},
   "outputs": [
    {
     "name": "stdout",
     "output_type": "stream",
     "text": [
      "w_0 = [-0.18395377]\n",
      "w_1, w_2 =  [[-1.06097157 -1.00171289]]\n"
     ]
    }
   ],
   "source": [
    "print ('w_0 = {}'.format(model.intercept_))\n",
    "print ('w_1, w_2 = ', model.coef_)"
   ]
  },
  {
   "cell_type": "code",
   "execution_count": 17,
   "metadata": {},
   "outputs": [],
   "source": [
    "# Нарисуем эту гиперплоскость\n",
    "w_0 = model.intercept_[0]\n",
    "w_1 = model.coef_[0][0]\n",
    "w_2 = model.coef_[0][1]\n",
    "\n",
    "x_1 = np.linspace(-4, 4, 10)\n",
    "x_2 = - (w_0 + w_1*x_1)/w_2"
   ]
  },
  {
   "cell_type": "code",
   "execution_count": 18,
   "metadata": {},
   "outputs": [
    {
     "data": {
      "text/plain": [
       "[<matplotlib.lines.Line2D at 0x1a180a1908>]"
      ]
     },
     "execution_count": 18,
     "metadata": {},
     "output_type": "execute_result"
    },
    {
     "data": {
      "image/png": "[encoded data removed]",
      "text/plain": [
       "<matplotlib.figure.Figure at 0x1a18066208>"
      ]
     },
     "metadata": {},
     "output_type": "display_data"
    }
   ],
   "source": [
    "fig, ax = plt.subplots(figsize=(7, 7))\n",
    "ax.scatter(X[:, 0],\n",
    "           X[:, 1],\n",
    "           c=y,\n",
    "           cmap=plt.cm.Paired)\n",
    "plt.plot(x_1, x_2)"
   ]
  },
  {
   "cell_type": "code",
   "execution_count": 19,
   "metadata": {},
   "outputs": [
    {
     "data": {
      "text/plain": [
       "array([-1, -1, -1, -1, -1, -1, -1, -1, -1, -1])"
      ]
     },
     "execution_count": 19,
     "metadata": {},
     "output_type": "execute_result"
    }
   ],
   "source": [
    "#результаты предсказаний\n",
    "y_hat = model.predict(X)\n",
    "y_hat[:10]"
   ]
  },
  {
   "cell_type": "code",
   "execution_count": 20,
   "metadata": {},
   "outputs": [
    {
     "data": {
      "text/plain": [
       "array([[9.98616528e-01, 1.38347180e-03],\n",
       "       [9.99496019e-01, 5.03981209e-04],\n",
       "       [9.95091160e-01, 4.90883960e-03],\n",
       "       [9.94323473e-01, 5.67652674e-03],\n",
       "       [9.90157090e-01, 9.84290974e-03],\n",
       "       [9.97319087e-01, 2.68091305e-03],\n",
       "       [9.94720579e-01, 5.27942062e-03],\n",
       "       [9.94026880e-01, 5.97312006e-03],\n",
       "       [9.96628393e-01, 3.37160720e-03],\n",
       "       [9.77815343e-01, 2.21846572e-02]])"
      ]
     },
     "execution_count": 20,
     "metadata": {},
     "output_type": "execute_result"
    }
   ],
   "source": [
    "#вероятности отнесения к классам 1 и 2\n",
    "y_hat_proba = model.predict_proba(X)\n",
    "y_hat_proba[:10, :]"
   ]
  },
  {
   "cell_type": "code",
   "execution_count": 21,
   "metadata": {},
   "outputs": [
    {
     "data": {
      "text/plain": [
       "array([-6.58177471, -7.59246747, -5.31179677, -5.16572302, -4.61111223,\n",
       "       -5.91891334, -5.23864551, -5.11449484, -5.68898843, -3.78591991])"
      ]
     },
     "execution_count": 21,
     "metadata": {},
     "output_type": "execute_result"
    }
   ],
   "source": [
    "dec_func = model.decision_function(X)\n",
    "dec_func[:10]"
   ]
  },
  {
   "cell_type": "markdown",
   "metadata": {},
   "source": [
    "### Как сделать нелинейную границу?"
   ]
  },
  {
   "cell_type": "markdown",
   "metadata": {},
   "source": [
    "Рассмотрим набор данных, который в простонародье называют \"Бублик\"."
   ]
  },
  {
   "cell_type": "code",
   "execution_count": 22,
   "metadata": {},
   "outputs": [],
   "source": [
    "from sklearn.datasets import make_circles"
   ]
  },
  {
   "cell_type": "code",
   "execution_count": 23,
   "metadata": {},
   "outputs": [
    {
     "data": {
      "text/plain": [
       "<matplotlib.collections.PathCollection at 0x1a182f58d0>"
      ]
     },
     "execution_count": 23,
     "metadata": {},
     "output_type": "execute_result"
    },
    {
     "data": {
      "image/png": "[encoded data removed]",
      "text/plain": [
       "<matplotlib.figure.Figure at 0x1a182a5710>"
      ]
     },
     "metadata": {},
     "output_type": "display_data"
    }
   ],
   "source": [
    "#генерим случайный массив\n",
    "X, y = make_circles(n_samples=100, shuffle=True,\n",
    "                    noise = 0.1,\n",
    "                    factor=0.1)\n",
    "\n",
    "plt.scatter(X[:, 0],\n",
    "            X[:, 1],\n",
    "            c=y)"
   ]
  },
  {
   "cell_type": "markdown",
   "metadata": {},
   "source": [
    "Очевидно, что классы нельзя разделить линией. Но можно сделать это окружностью! </br>\n",
    "Т.е. разделяющся линия теперь будет задаваться не уравнением прямой $g(x) = w_0 + w_1x_1 + w_2x_2$, а уравнением окружности $c(x) = (x_1 - a)^2 + (x_2 - b)^2 - R^2$. \n",
    "\n",
    "Выполните преобразование матрицы X, чтобы в ней были столбцы для $x_1$, $x^2_1$, $x_2$, $x^2_2$ и обучите логистическую регрессию"
   ]
  },
  {
   "cell_type": "code",
   "execution_count": 29,
   "metadata": {},
   "outputs": [
    {
     "data": {
      "text/plain": [
       "LogisticRegression(C=100000, class_weight=None, dual=False,\n",
       "          fit_intercept=True, intercept_scaling=1, max_iter=100,\n",
       "          multi_class='ovr', n_jobs=1, penalty='l2', random_state=None,\n",
       "          solver='liblinear', tol=0.0001, verbose=0, warm_start=False)"
      ]
     },
     "execution_count": 29,
     "metadata": {},
     "output_type": "execute_result"
    }
   ],
   "source": [
    "#дополняем признаком суммы квадратов (как уравнение окружности)\n",
    "X_new = np.c_[X[:,0], X[:,1], X[:,0]**2,  X[:,1]**2]\n",
    "model = LogisticRegression(C=100000, \n",
    "                           fit_intercept=True)\n",
    "model.fit(X_new, y)"
   ]
  },
  {
   "cell_type": "code",
   "execution_count": 26,
   "metadata": {},
   "outputs": [
    {
     "data": {
      "text/plain": [
       "0"
      ]
     },
     "execution_count": 26,
     "metadata": {},
     "output_type": "execute_result"
    }
   ],
   "source": [
    "# Посчитаем количество ошибок\n",
    "y_hat = model.predict(X_new)\n",
    "(y != y_hat).sum()"
   ]
  },
  {
   "cell_type": "code",
   "execution_count": 30,
   "metadata": {},
   "outputs": [
    {
     "data": {
      "text/plain": [
       "<matplotlib.collections.PathCollection at 0x1a18330f98>"
      ]
     },
     "execution_count": 30,
     "metadata": {},
     "output_type": "execute_result"
    },
    {
     "data": {
      "image/png": "[encoded data removed]",
      "text/plain": [
       "<matplotlib.figure.Figure at 0x1a183121d0>"
      ]
     },
     "metadata": {},
     "output_type": "display_data"
    }
   ],
   "source": [
    "# Нарисуем полученную окружность\n",
    "\n",
    "x0, x1 = np.meshgrid(np.arange(-1.5, 1.5, 0.1),\n",
    "                       np.arange(-1.5, 1.5, 0.1))\n",
    "xx0, xx1 = x0.ravel(), x1.ravel()\n",
    "\n",
    "X_grid = np.c_[xx0, xx1, xx0**2, xx1**2]\n",
    "\n",
    "y_hat = model.decision_function(X_grid)\n",
    "y_hat = y_hat.reshape(x0.shape)\n",
    "\n",
    "plt.contour(x0, x1, y_hat, levels=[0])\n",
    "plt.scatter(X[:,0], \n",
    "            X[:, 1], \n",
    "            c=y)"
   ]
  },
  {
   "cell_type": "markdown",
   "metadata": {},
   "source": [
    "## Анализ тональности"
   ]
  },
  {
   "cell_type": "markdown",
   "metadata": {},
   "source": [
    "Загрузите текстовые данные [отсюда](https://archive.ics.uci.edu/ml/machine-learning-databases/00331/). Архив должен содержать 3 файла с положительными и отрицательными отзывами с ресурсов\n",
    "* imdb.com\n",
    "* amazon.com\n",
    "* yelp.com\n",
    "\n",
    "Формат файла следующий:\n",
    "<отзыв>\\t<метка>\\n\n",
    "\n",
    "\n",
    "### Задача\n",
    "1. Загрузите тексты и метки классов в разные переменные\n",
    "2. Выберите меру качества классификации\n",
    "3. Обучите логистическую (без подбора гиперпараметров). Тексты представляются в виде мешка слов\n",
    "4. Выведите наиболее значимые слова из текста"
   ]
  },
  {
   "cell_type": "code",
   "execution_count": 33,
   "metadata": {},
   "outputs": [
    {
     "data": {
      "text/html": [
       "<div>\n",
       "<style scoped>\n",
       "    .dataframe tbody tr th:only-of-type {\n",
       "        vertical-align: middle;\n",
       "    }\n",
       "\n",
       "    .dataframe tbody tr th {\n",
       "        vertical-align: top;\n",
       "    }\n",
       "\n",
       "    .dataframe thead th {\n",
       "        text-align: right;\n",
       "    }\n",
       "</style>\n",
       "<table border=\"1\" class=\"dataframe\">\n",
       "  <thead>\n",
       "    <tr style=\"text-align: right;\">\n",
       "      <th></th>\n",
       "      <th>text</th>\n",
       "      <th>label</th>\n",
       "    </tr>\n",
       "  </thead>\n",
       "  <tbody>\n",
       "    <tr>\n",
       "      <th>0</th>\n",
       "      <td>So there is no way for me to plug it in here i...</td>\n",
       "      <td>0</td>\n",
       "    </tr>\n",
       "    <tr>\n",
       "      <th>1</th>\n",
       "      <td>Good case, Excellent value.</td>\n",
       "      <td>1</td>\n",
       "    </tr>\n",
       "    <tr>\n",
       "      <th>2</th>\n",
       "      <td>Great for the jawbone.</td>\n",
       "      <td>1</td>\n",
       "    </tr>\n",
       "    <tr>\n",
       "      <th>3</th>\n",
       "      <td>Tied to charger for conversations lasting more...</td>\n",
       "      <td>0</td>\n",
       "    </tr>\n",
       "    <tr>\n",
       "      <th>4</th>\n",
       "      <td>The mic is great.</td>\n",
       "      <td>1</td>\n",
       "    </tr>\n",
       "  </tbody>\n",
       "</table>\n",
       "</div>"
      ],
      "text/plain": [
       "                                                text  label\n",
       "0  So there is no way for me to plug it in here i...      0\n",
       "1                        Good case, Excellent value.      1\n",
       "2                             Great for the jawbone.      1\n",
       "3  Tied to charger for conversations lasting more...      0\n",
       "4                                  The mic is great.      1"
      ]
     },
     "execution_count": 33,
     "metadata": {},
     "output_type": "execute_result"
    }
   ],
   "source": [
    "#загружаем файл с amazon\n",
    "df = pd.read_csv('data/amazon_cells_labelled.txt', sep = '\\t', header = None, names = ['text', 'label'])\n",
    "df.head()"
   ]
  },
  {
   "cell_type": "code",
   "execution_count": 37,
   "metadata": {},
   "outputs": [],
   "source": [
    "from sklearn.feature_extraction.text import CountVectorizer\n",
    "from sklearn.pipeline import Pipeline"
   ]
  },
  {
   "cell_type": "code",
   "execution_count": 71,
   "metadata": {},
   "outputs": [],
   "source": [
    "#min_df - мин кол-во документов, в которых встречается слово \n",
    "#max_df - доля документов, в которых встречаются слова (если слова больше, чем в 95% документов, не использовать их)\n",
    "#ngram_range - атрибут, показывающий количество слов в сочетаниях, которые необходимо рассматривать: можно смотреть сочетания слов\n",
    "\n",
    "model = Pipeline ([\n",
    "    ('vect', CountVectorizer(stop_words='english', min_df=4, max_df=0.95, ngram_range = (2,2))),\n",
    "    ('clf', LogisticRegression())\n",
    "])"
   ]
  },
  {
   "cell_type": "code",
   "execution_count": 72,
   "metadata": {},
   "outputs": [],
   "source": [
    "texts = df.text.values\n",
    "y = df.label.values"
   ]
  },
  {
   "cell_type": "code",
   "execution_count": 44,
   "metadata": {},
   "outputs": [
    {
     "data": {
      "text/plain": [
       "array(['So there is no way for me to plug it in here in the US unless I go by a converter.',\n",
       "       'Good case, Excellent value.', 'Great for the jawbone.',\n",
       "       'Tied to charger for conversations lasting more than 45 minutes.MAJOR PROBLEMS!!',\n",
       "       'The mic is great.',\n",
       "       'I have to jiggle the plug to get it to line up right to get decent volume.',\n",
       "       'If you have several dozen or several hundred contacts, then imagine the fun of sending each of them one by one.',\n",
       "       'If you are Razr owner...you must have this!',\n",
       "       'Needless to say, I wasted my money.',\n",
       "       'What a waste of money and time!.'], dtype=object)"
      ]
     },
     "execution_count": 44,
     "metadata": {},
     "output_type": "execute_result"
    }
   ],
   "source": [
    "texts[:10]"
   ]
  },
  {
   "cell_type": "code",
   "execution_count": 45,
   "metadata": {},
   "outputs": [
    {
     "data": {
      "text/plain": [
       "array([0, 1, 1, 0, 1, 0, 0, 1, 0, 0])"
      ]
     },
     "execution_count": 45,
     "metadata": {},
     "output_type": "execute_result"
    }
   ],
   "source": [
    "y[:10]"
   ]
  },
  {
   "cell_type": "code",
   "execution_count": 73,
   "metadata": {},
   "outputs": [
    {
     "data": {
      "text/plain": [
       "Pipeline(memory=None,\n",
       "     steps=[('vect', CountVectorizer(analyzer='word', binary=False, decode_error='strict',\n",
       "        dtype=<class 'numpy.int64'>, encoding='utf-8', input='content',\n",
       "        lowercase=True, max_df=0.95, max_features=None, min_df=4,\n",
       "        ngram_range=(2, 2), preprocessor=None, stop_words='english',\n",
       "       ...ty='l2', random_state=None, solver='liblinear', tol=0.0001,\n",
       "          verbose=0, warm_start=False))])"
      ]
     },
     "execution_count": 73,
     "metadata": {},
     "output_type": "execute_result"
    }
   ],
   "source": [
    "model.fit(texts, y)"
   ]
  },
  {
   "cell_type": "code",
   "execution_count": 74,
   "metadata": {},
   "outputs": [],
   "source": [
    "weights = model.named_steps['clf'].coef_"
   ]
  },
  {
   "cell_type": "code",
   "execution_count": 75,
   "metadata": {},
   "outputs": [],
   "source": [
    "word = model.named_steps['vect'].get_feature_names()"
   ]
  },
  {
   "cell_type": "code",
   "execution_count": 76,
   "metadata": {},
   "outputs": [],
   "source": [
    "imp = pd.Series(index=word, data = weights[0])"
   ]
  },
  {
   "cell_type": "code",
   "execution_count": 77,
   "metadata": {},
   "outputs": [
    {
     "data": {
      "text/plain": [
       "waste money         -1.423035\n",
       "does work           -1.269398\n",
       "don buy             -1.260155\n",
       "did work            -1.211374\n",
       "piece junk          -1.147058\n",
       "doesn work          -1.147058\n",
       "customer service    -1.115423\n",
       "don waste           -0.646741\n",
       "car charger          0.108127\n",
       "battery life         0.180836\n",
       "bluetooth headset    0.245148\n",
       "phone ve             0.258453\n",
       "cell phone           0.605485\n",
       "product price        0.630794\n",
       "sound quality        0.722912\n",
       "excellent product    0.995590\n",
       "great reception      1.045314\n",
       "like charm           1.070927\n",
       "good quality         1.090538\n",
       "good product         1.208273\n",
       "easy use             1.208273\n",
       "great product        1.232729\n",
       "works fine           1.325217\n",
       "highly recommend     1.466263\n",
       "great phone          1.530479\n",
       "works great          2.013483\n",
       "dtype: float64"
      ]
     },
     "execution_count": 77,
     "metadata": {},
     "output_type": "execute_result"
    }
   ],
   "source": [
    "imp.sort_values()"
   ]
  },
  {
   "cell_type": "code",
   "execution_count": 55,
   "metadata": {},
   "outputs": [
    {
     "data": {
      "text/plain": [
       "272"
      ]
     },
     "execution_count": 55,
     "metadata": {},
     "output_type": "execute_result"
    }
   ],
   "source": [
    "len(word)"
   ]
  },
  {
   "cell_type": "code",
   "execution_count": 58,
   "metadata": {},
   "outputs": [
    {
     "data": {
      "text/plain": [
       "['10',\n",
       " 'able',\n",
       " 'absolutely',\n",
       " 'actually',\n",
       " 'ago',\n",
       " 'amazon',\n",
       " 'arrived',\n",
       " 'audio',\n",
       " 'away',\n",
       " 'awesome']"
      ]
     },
     "execution_count": 58,
     "metadata": {},
     "output_type": "execute_result"
    }
   ],
   "source": [
    "weights.shape\n",
    "word[:10]"
   ]
  },
  {
   "cell_type": "code",
   "execution_count": 50,
   "metadata": {},
   "outputs": [
    {
     "data": {
      "text/plain": [
       "array([[ 7.52010221e-01,  1.26512319e-01,  7.43917108e-01,\n",
       "         2.69475046e-01,  1.97489893e-01,  1.73002966e-01,\n",
       "         8.48198365e-02, -3.18970211e-01, -8.86680903e-02,\n",
       "         1.18554717e+00, -5.57239323e-01, -1.53604855e+00,\n",
       "         9.22935512e-02, -4.92045495e-02, -1.23996302e-01,\n",
       "         5.78312281e-01,  1.72333373e+00,  4.92654269e-01,\n",
       "        -2.98686822e-01, -3.34518755e-01,  2.59931115e-01,\n",
       "         4.40982675e-01,  3.68536365e-02, -1.07821144e+00,\n",
       "        -5.40977792e-01, -6.45888723e-01, -1.10730593e+00,\n",
       "        -1.37115402e-01, -8.06243209e-01,  2.67929355e-01,\n",
       "         3.06399361e-01,  8.25408449e-01,  3.90717031e-01,\n",
       "         1.13559187e+00,  6.70908830e-01, -5.63436590e-01,\n",
       "        -1.05522985e-01,  1.98714023e-01,  8.19778642e-01,\n",
       "        -3.14814450e-01, -5.40504156e-01,  6.69076129e-01,\n",
       "         8.73618537e-01, -6.29613572e-01,  1.10186450e-01,\n",
       "        -1.59137395e-01,  1.14092792e+00,  6.77865860e-01,\n",
       "        -7.41923892e-01, -4.98962357e-01, -4.78431750e-01,\n",
       "         9.48338967e-01,  2.58221258e-01, -2.94176081e-02,\n",
       "        -7.93863604e-01, -4.19703435e-01,  2.83449745e-01,\n",
       "         2.10584568e-01, -3.82811530e-01, -3.95681193e-01,\n",
       "         3.30191500e-01,  1.03298224e+00, -6.11810055e-01,\n",
       "         2.40421499e-01,  6.98321733e-02, -1.01289541e+00,\n",
       "        -4.44147566e-01, -1.20444348e+00, -1.26601406e+00,\n",
       "        -1.08356676e+00, -8.83399224e-01, -2.73677249e-01,\n",
       "        -9.92012798e-01, -7.63007855e-01, -6.83781668e-01,\n",
       "        -1.71882864e-01, -4.89766133e-01,  5.95635297e-01,\n",
       "         3.57160129e-01, -6.56008411e-01,  1.73378117e+00,\n",
       "        -2.26052134e-01,  1.20899610e-01,  2.07103062e+00,\n",
       "         1.05879561e-01, -2.52671367e-01, -3.29228738e-01,\n",
       "        -5.13691830e-01,  1.10291155e+00,  7.69947407e-01,\n",
       "         9.86398532e-01, -1.08233327e-01,  2.27550049e-01,\n",
       "         9.11846540e-01, -2.29901138e-01,  9.77234597e-01,\n",
       "         4.14868116e-01,  3.60254523e-01,  1.05545208e+00,\n",
       "        -4.65317697e-01,  1.05915820e-01,  1.61184752e+00,\n",
       "         6.06850430e-01,  2.66030568e+00,  2.33597865e-01,\n",
       "         1.30833775e+00, -6.04258760e-02, -6.80669985e-01,\n",
       "        -6.02508428e-01, -9.02460086e-01, -8.43219480e-02,\n",
       "         1.98687147e-02, -1.03389896e+00,  5.12851058e-01,\n",
       "        -3.20100029e-01,  6.88857634e-01,  3.69654911e-02,\n",
       "         5.66187638e-01, -1.14986374e+00, -5.25111790e-01,\n",
       "        -1.90671140e-01,  3.29657532e-04, -7.44687451e-01,\n",
       "        -2.18027426e-01, -6.22849072e-01,  5.17536822e-01,\n",
       "         7.69614970e-01, -9.80084569e-01,  4.17478797e-01,\n",
       "        -1.41842738e-01,  8.06277070e-01, -3.87679031e-01,\n",
       "         5.77245592e-02, -2.23274714e-01, -6.87520765e-01,\n",
       "         6.04889638e-01, -4.71290646e-01, -9.10194975e-02,\n",
       "         5.48378586e-02,  7.47169605e-01,  6.09304990e-01,\n",
       "         8.01530416e-01, -1.11575846e-01,  4.69884033e-01,\n",
       "         5.20206989e-01, -3.29111462e-01, -6.12601323e-01,\n",
       "        -5.29593872e-01,  4.80058572e-01, -4.60920777e-01,\n",
       "         2.26588349e+00, -6.16116898e-01, -3.37318369e-01,\n",
       "        -2.63656714e-01,  3.04278474e-01,  4.30837201e-03,\n",
       "        -8.49011886e-01,  3.61754890e-01, -1.03930769e+00,\n",
       "        -5.84005392e-01, -6.58818755e-03,  4.21446361e-01,\n",
       "         3.70638257e-01,  2.00829456e+00, -5.52271716e-01,\n",
       "         1.07517481e-01, -1.26867541e+00,  1.10601333e+00,\n",
       "         8.45690046e-01,  5.56370819e-01,  6.29703884e-01,\n",
       "         1.45056199e+00, -4.17488311e-02, -5.35565721e-02,\n",
       "         2.45899954e-01, -1.17971115e+00, -8.22566715e-03,\n",
       "        -8.37504820e-01, -9.48429111e-02,  4.99837964e-01,\n",
       "        -6.26466360e-01, -6.59452524e-01,  1.35614972e+00,\n",
       "        -1.06559087e+00, -1.82198748e+00,  8.55829815e-01,\n",
       "         1.05033689e+00,  4.50671412e-01, -3.48688055e-01,\n",
       "        -1.36112466e-01,  4.57520483e-02, -1.53700132e-01,\n",
       "         1.91904732e-01,  5.75097517e-01,  3.77630821e-01,\n",
       "         3.28529853e-01,  6.78656263e-01,  3.66758577e-01,\n",
       "        -4.35712373e-01, -1.04137199e-01, -4.43070924e-01,\n",
       "         2.13130719e-01,  1.09737906e+00,  2.22467937e-01,\n",
       "        -9.67029971e-01, -2.92030220e-01,  2.76972067e-01,\n",
       "        -3.12769979e-01,  3.62971021e-01,  9.95189085e-01,\n",
       "         6.86952496e-01, -9.67670693e-02,  9.84807317e-01,\n",
       "        -3.85813443e-01, -2.48263574e-02, -1.49167293e-01,\n",
       "         3.67295300e-01, -6.88614006e-01,  1.50623302e-01,\n",
       "         7.72565073e-01, -5.12844764e-02,  3.85592906e-01,\n",
       "        -3.85739238e-01, -1.03846025e+00, -4.29334698e-01,\n",
       "         1.15183056e-01,  1.38765762e+00, -8.22587606e-01,\n",
       "        -6.18197087e-01,  1.71199046e-01, -7.25302553e-01,\n",
       "        -1.51123709e+00, -8.31646961e-01, -2.62769356e-01,\n",
       "        -3.90635130e-01, -3.32010304e-01, -1.68904100e-03,\n",
       "        -1.84388797e-01, -2.02416755e-01,  5.91829041e-03,\n",
       "        -6.25413520e-01, -8.33626731e-01, -1.03866346e+00,\n",
       "        -8.35222041e-01,  4.29807622e-01, -1.52204158e-01,\n",
       "         7.85753597e-02, -1.01337566e+00, -1.25004146e-02,\n",
       "         4.41821720e-01,  3.72648785e-01,  3.41802428e-01,\n",
       "         5.61357495e-01, -5.01023929e-01, -2.59780228e-01,\n",
       "        -1.06062542e-02, -1.08192620e+00, -6.31742757e-01,\n",
       "        -7.13721528e-01,  8.14323346e-01, -7.12750304e-01,\n",
       "        -3.27394241e-01, -3.67749770e-01, -3.55911802e-01,\n",
       "        -9.29613257e-01, -9.66798913e-02,  4.57299028e-01,\n",
       "         2.22188648e+00, -1.42043218e+00, -1.51734106e-02,\n",
       "        -4.25383926e-01,  7.64733419e-01]])"
      ]
     },
     "execution_count": 50,
     "metadata": {},
     "output_type": "execute_result"
    }
   ],
   "source": [
    "weights"
   ]
  },
  {
   "cell_type": "markdown",
   "metadata": {},
   "source": [
    "# Регуляризация"
   ]
  },
  {
   "cell_type": "markdown",
   "metadata": {},
   "source": [
    "В случае с логистичесткой регресии, сложность модели выражается в значениях весов $w_j$ при признаках. Больший вес означает большее влияние признака на результат. В таком случае, давайте добавил штрафное слагаемое в функцию оптимизации для логистической регресии. Самый распространенные из них это:\n",
    "\n",
    "Стало (Ridge Regularization)\n",
    "$$ L(\\beta_0,\\beta_1,\\dots) = \\mathcal{L}(w) + \\frac{1}{C}\\sum_{j=1}^{m}w_j^2$$\n",
    "или (Lasso Regularization)\n",
    "$$ L(\\beta_0,\\beta_1,\\dots) = \\mathcal{L}(w)+ \\frac{1}{C}\\sum_{j=1}^{m}|w_j|$$\n",
    "\n",
    "$C$ - называется гиперпараметром регуляризации и он задается вручную. Выбирается он с помощью кросс-валидации. Чем больше $С$ - тем меньше влияние регуляризации.\n",
    "\n",
    "Lasso regression называется так, потому что она осуществляет \"отлов\" признаков - т.е. незначимые признаки будут иметь нулевые веса в модели, в то время как в Ridge regression - веса будут постепенно падать у всех признаков.\n",
    "\n",
    "<img src='http://webdancer.is-programmer.com/user_files/webdancer/Image/lasso.png'>"
   ]
  },
  {
   "cell_type": "markdown",
   "metadata": {},
   "source": [
    "Однако использование регуляризации превращает логистическую регрессию в черный ящик - мы предоставляем оптимизационному методу решать за нас, какие признаки важны для модели."
   ]
  },
  {
   "cell_type": "markdown",
   "metadata": {},
   "source": [
    "Давайте сравним работу регуляризаторов. \n",
    "\n",
    "1. Разбейте данные на обучающую и контрольную выборки.\n",
    "1. Для $C$ из набора np.logspace(-3, 3, 10) обучите LogisctigRegression c Lasso регуляризацией (`penalty='l1'`). На каждой итерации оцените качество (ROC-AUC) на контрольной выборке и запомните полученные коэффициенты модели\n",
    "1. На одном графике выведите значение качества в зависимости от параметра `C` \n",
    "1. На другом графике для каждого признака выведите изменение коэффициента в модели в зависимости от параметра `C`\n",
    "1. Для оптимальной на ваш взгляд настройки модели выведите 5 наиболие \"важных\" признаков и их коэффициенты\n",
    "1. Проделайте тоже самое для Ridge регуляризации (`penalty='l2'`)"
   ]
  },
  {
   "cell_type": "code",
   "execution_count": 78,
   "metadata": {},
   "outputs": [],
   "source": [
    "import numpy as np\n",
    "from sklearn.model_selection import train_test_split\n",
    "from sklearn.linear_model import LogisticRegression\n",
    "from sklearn.metrics import roc_auc_score\n",
    "from sklearn.pipeline import Pipeline\n",
    "from sklearn.preprocessing import StandardScaler"
   ]
  },
  {
   "cell_type": "code",
   "execution_count": 79,
   "metadata": {
    "scrolled": true
   },
   "outputs": [],
   "source": [
    "df_churn = pd.read_csv('data/churn.csv')"
   ]
  },
  {
   "cell_type": "code",
   "execution_count": 81,
   "metadata": {},
   "outputs": [],
   "source": [
    "def preproc(df_init):\n",
    "    df_preproc = df_init.copy()\n",
    "    \n",
    "    # Удалили признаки\n",
    "    df_preproc = df_preproc.drop(['State', 'Area Code', 'Phone'], axis=1)\n",
    "    \n",
    "    # Замена категориальных признаков\n",
    "    df_preproc.loc[:,  [\"Int'l Plan\", 'VMail Plan']] = \\\n",
    "    df_preproc.loc[:,  [\"Int'l Plan\", 'VMail Plan']].replace({'no': 0, 'yes': 1})\n",
    "    \n",
    "    df_preproc.loc[:,  'Churn?'] = df_preproc.loc[:,  'Churn?'].replace({'False.': 0,\n",
    "                                                                         'True.': 1})\n",
    "    return df_preproc"
   ]
  },
  {
   "cell_type": "code",
   "execution_count": 82,
   "metadata": {},
   "outputs": [],
   "source": [
    "df_preproc = df_churn.pipe(preproc)"
   ]
  },
  {
   "cell_type": "code",
   "execution_count": 83,
   "metadata": {},
   "outputs": [],
   "source": [
    "X, y = df_preproc.iloc[:, :-1].values, df_preproc.iloc[:, -1].values"
   ]
  },
  {
   "cell_type": "code",
   "execution_count": 84,
   "metadata": {},
   "outputs": [],
   "source": [
    "X_train, X_test, y_train, y_test = train_test_split(X, y, test_size = 0.3)"
   ]
  },
  {
   "cell_type": "code",
   "execution_count": 85,
   "metadata": {},
   "outputs": [],
   "source": [
    "model = LogisticRegression(penalty='l1', C=1, fit_intercept=True)\n",
    "#... После fit()\n",
    "\n",
    "# # Коэффициенты w_1...w_d\n",
    "# model.coef_\n",
    "\n",
    "# # Коэффициент при свободном члене w_0\n",
    "# model.intercept_\n",
    "\n",
    "# # Предсказание\n",
    "# model.predict(X_test)\n",
    "# model.predict_proba(X_test)\n",
    "# model.decision_function(X_test)\n"
   ]
  },
  {
   "cell_type": "code",
   "execution_count": 86,
   "metadata": {},
   "outputs": [
    {
     "ename": "NameError",
     "evalue": "name 'c_range' is not defined",
     "output_type": "error",
     "traceback": [
      "\u001b[0;31m---------------------------------------------------------------------------\u001b[0m",
      "\u001b[0;31mNameError\u001b[0m                                 Traceback (most recent call last)",
      "\u001b[0;32m<ipython-input-86-493350effd6d>\u001b[0m in \u001b[0;36m<module>\u001b[0;34m()\u001b[0m\n\u001b[0;32m----> 1\u001b[0;31m \u001b[0mc_range\u001b[0m\u001b[0;34m\u001b[0m\u001b[0m\n\u001b[0m",
      "\u001b[0;31mNameError\u001b[0m: name 'c_range' is not defined"
     ]
    }
   ],
   "source": [
    "c_range"
   ]
  },
  {
   "cell_type": "code",
   "execution_count": 93,
   "metadata": {},
   "outputs": [],
   "source": [
    "#penalty='l2' - регуляризация суммой квадратов\n",
    "#penalty='l1' - регуляризация  модулями\n",
    "\n",
    "coefs = np.empty((X.shape[1],))\n",
    "scores = []\n",
    "\n",
    "c_range = np.logspace(-3, 3, 10)\n",
    "\n",
    "for C in c_range:\n",
    "    model = Pipeline([\n",
    "        ('scaler', StandardScaler()),\n",
    "        ('clf', LogisticRegression(penalty='l2', fit_intercept=True, C=C))\n",
    "    ])\n",
    "\n",
    "    model.fit(X_train, y_train)\n",
    "    \n",
    "    \n",
    "    coefs = np.c_[coefs, model.named_steps['clf'].coef_[0]]\n",
    "    s = roc_auc_score(y_test, model.predict_proba(X_test)[:, 1])\n",
    "    scores.append(s)\n",
    "    "
   ]
  },
  {
   "cell_type": "code",
   "execution_count": 94,
   "metadata": {},
   "outputs": [
    {
     "data": {
      "text/plain": [
       "Text(0,0.5,'weights')"
      ]
     },
     "execution_count": 94,
     "metadata": {},
     "output_type": "execute_result"
    },
    {
     "data": {
      "image/png": "[encoded data removed]",
      "text/plain": [
       "<matplotlib.figure.Figure at 0x1a19094b00>"
      ]
     },
     "metadata": {},
     "output_type": "display_data"
    }
   ],
   "source": [
    "plt.plot(coefs[:, 1:].T)\n",
    "plt.ylabel('weights')"
   ]
  },
  {
   "cell_type": "code",
   "execution_count": 95,
   "metadata": {
    "scrolled": true
   },
   "outputs": [
    {
     "data": {
      "text/plain": [
       "[<matplotlib.lines.Line2D at 0x1a19a816a0>]"
      ]
     },
     "execution_count": 95,
     "metadata": {},
     "output_type": "execute_result"
    },
    {
     "data": {
      "image/png": "[encoded data removed]",
      "text/plain": [
       "<matplotlib.figure.Figure at 0x1a19797710>"
      ]
     },
     "metadata": {},
     "output_type": "display_data"
    }
   ],
   "source": [
    "plt.plot(scores)"
   ]
  },
  {
   "cell_type": "code",
   "execution_count": null,
   "metadata": {
    "collapsed": true
   },
   "outputs": [],
   "source": []
  }
 ],
 "metadata": {
  "anaconda-cloud": {},
  "kernelspec": {
   "display_name": "Python 3",
   "language": "python",
   "name": "python3"
  },
  "language_info": {
   "codemirror_mode": {
    "name": "ipython",
    "version": 3
   },
   "file_extension": ".py",
   "mimetype": "text/x-python",
   "name": "python",
   "nbconvert_exporter": "python",
   "pygments_lexer": "ipython3",
   "version": "3.6.4"
  },
  "nav_menu": {},
  "toc": {
   "colors": {
    "hover_highlight": "#DAA520",
    "navigate_num": "#000000",
    "navigate_text": "#333333",
    "running_highlight": "#FF0000",
    "selected_highlight": "#FFD700",
    "sidebar_border": "#EEEEEE",
    "wrapper_background": "#FFFFFF"
   },
   "moveMenuLeft": true,
   "nav_menu": {
    "height": "291px",
    "width": "252px"
   },
   "navigate_menu": true,
   "number_sections": false,
   "sideBar": true,
   "threshold": 4,
   "toc_cell": false,
   "toc_section_display": "block",
   "toc_window_display": true,
   "widenNotebook": false
  }
 },
 "nbformat": 4,
 "nbformat_minor": 2
}
